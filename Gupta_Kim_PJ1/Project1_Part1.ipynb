{
 "cells": [
  {
   "cell_type": "code",
   "execution_count": 9,
   "metadata": {},
   "outputs": [],
   "source": [
    "#Importing packages\n",
    "from selenium import webdriver\n",
    "#from pymongo import MongoClient\n",
    "from collections import Counter\n",
    "import pandas as pd\n",
    "import json\n",
    "import twint\n",
    "import matplotlib as mpl\n",
    "import matplotlib.pyplot as plt\n",
    "import networkx as nx\n",
    "import nest_asyncio"
   ]
  },
  {
   "cell_type": "code",
   "execution_count": 10,
   "metadata": {},
   "outputs": [],
   "source": [
    "driver = webdriver.Chrome('/home/sarah/Documents/Gupta_Kim_PJ1/chromedriver')\n",
    "driver.get('https://www.poynter.org/ifcn-covid-19-misinformation/?covid_countries=48837&covid_rating=0&covid_fact_checkers=0&orderby=views&order=DESC')"
   ]
  },
  {
   "cell_type": "code",
   "execution_count": null,
   "metadata": {},
   "outputs": [],
   "source": [
    "#client = MongoClient('mongodb://localhost:27017/')"
   ]
  },
  {
   "cell_type": "code",
   "execution_count": 11,
   "metadata": {},
   "outputs": [],
   "source": [
    "news_list = []\n",
    "user_list = []\n",
    "username_list = []\n",
    "edge_list = []\n",
    "user_id_list = []\n",
    "counter = 0"
   ]
  },
  {
   "cell_type": "code",
   "execution_count": 8,
   "metadata": {},
   "outputs": [],
   "source": [
    "nest_asyncio.apply()\n",
    "c = twint.Config()\n",
    "c.Search = 'pineapple'\n",
    "c.Limit = 10\n",
    "c.User_full = True\n",
    "c.Store_object = True\n",
    "c.Hide_output = True\n",
    "twint.run.Search(c)\n",
    "users = twint.output.users_list\n",
    "    \n",
    "for user in users:\n",
    "    username = user.username\n",
    "    print(username)\n",
    "    idnum = user.id\n",
    "    name = user.name\n",
    "    location = user.location\n",
    "    num_followes = user.followers\n",
    "    num_following = user.following\n",
    "    date_joined = user.join_date\n",
    "    user_list.append({'type':'user', 'username':username, 'idnum':idnum, 'name':name, 'location':location, 'num_followes':num_followes, 'num_following':num_following, 'date_joined': date_joined})\n",
    "            "
   ]
  },
  {
   "cell_type": "code",
   "execution_count": 7,
   "metadata": {},
   "outputs": [
    {
     "name": "stdout",
     "output_type": "stream",
     "text": [
      "[]\n"
     ]
    }
   ],
   "source": [
    "print(user_list)"
   ]
  },
  {
   "cell_type": "code",
   "execution_count": null,
   "metadata": {},
   "outputs": [],
   "source": [
    "\n",
    "count = 0\n",
    "co2 = twint.Config() \n",
    "co2.Username = 'noneprivacy'\n",
    "co2.Limit = 10\n",
    "co2.Hide_output = True\n",
    "co2.Store_object = True\n",
    "co2.User_full = True\n",
    "twint.run.Followers(co2) \n",
    "follow = twint.output.users_list\n",
    "for fol in follow:\n",
    "    print(fol.username)\n",
    "    count = count +1\n"
   ]
  },
  {
   "cell_type": "code",
   "execution_count": null,
   "metadata": {},
   "outputs": [],
   "source": [
    "print(count)"
   ]
  },
  {
   "cell_type": "code",
   "execution_count": null,
   "metadata": {},
   "outputs": [],
   "source": [
    "print(user_names)"
   ]
  },
  {
   "cell_type": "code",
   "execution_count": 12,
   "metadata": {},
   "outputs": [],
   "source": [
    "for page_num in range(2,5):\n",
    "    for x in range(0,5):\n",
    "        button = driver.find_elements_by_link_text('READ MORE')\n",
    "        button[x].click()\n",
    "        validity = driver.find_element_by_class_name('entry-title--red').text\n",
    "        validity = validity[:-1]\n",
    "        claim = driver.find_element_by_class_name('entry-title').text\n",
    "        if not claim.strip():\n",
    "            driver.back()\n",
    "        \n",
    "        else:\n",
    "            news_list.append({'nodetype':\"news\", 'validity':validity.upper(), 'claim':claim, 'idnum':counter})\n",
    "            counter = counter + 1\n",
    "            driver.back()\n",
    "        \n",
    "    button = driver.find_element_by_link_text('{}'.format(page_num))\n",
    "    button.click()"
   ]
  },
  {
   "cell_type": "code",
   "execution_count": 13,
   "metadata": {},
   "outputs": [
    {
     "name": "stdout",
     "output_type": "stream",
     "text": [
      "15\n"
     ]
    }
   ],
   "source": [
    "print(len(news_list))"
   ]
  },
  {
   "cell_type": "code",
   "execution_count": 14,
   "metadata": {},
   "outputs": [],
   "source": [
    "driver.get('https://www.who.int/emergencies/diseases/novel-coronavirus-2019/advice-for-public/myth-busters')\n",
    "content = driver.find_elements_by_css_selector('h2')"
   ]
  },
  {
   "cell_type": "code",
   "execution_count": 15,
   "metadata": {},
   "outputs": [
    {
     "name": "stdout",
     "output_type": "stream",
     "text": [
      "38\n"
     ]
    }
   ],
   "source": [
    "for con in content:\n",
    "    if 'FACT: ' not in con.text:\n",
    "        content.remove(con)\n",
    "    else:\n",
    "        news_list.append({'nodetype':\"news\", 'validity':\"TRUE\", 'claim':con.text.replace('FACT: ',''), 'idnum':counter})\n",
    "        counter = counter + 1\n",
    "print(len(news_list))"
   ]
  },
  {
   "cell_type": "code",
   "execution_count": 16,
   "metadata": {},
   "outputs": [],
   "source": [
    "#print(news_list)\n",
    "with open('news_list.json', 'w') as json_file:\n",
    "    json.dump(news_list, json_file)   "
   ]
  },
  {
   "cell_type": "code",
   "execution_count": 17,
   "metadata": {},
   "outputs": [],
   "source": [
    "G = nx.Graph()\n",
    "a = 0\n",
    "color_map = []\n",
    "for news in news_list:\n",
    "    G.add_node(a, n=news)\n",
    "    color_map.append('blue')\n",
    "    a = a + 1"
   ]
  },
  {
   "cell_type": "code",
   "execution_count": null,
   "metadata": {},
   "outputs": [],
   "source": []
  },
  {
   "cell_type": "code",
   "execution_count": 18,
   "metadata": {},
   "outputs": [
    {
     "name": "stdout",
     "output_type": "stream",
     "text": [
      "[!] No more data! Scraping will stop now.\n",
      "found 0 deleted tweets in this search.\n",
      "[!] No more data! Scraping will stop now.\n",
      "found 0 deleted tweets in this search.\n",
      "[!] No more data! Scraping will stop now.\n",
      "found 0 deleted tweets in this search.\n",
      "[!] No more data! Scraping will stop now.\n",
      "found 0 deleted tweets in this search.\n",
      "[!] No more data! Scraping will stop now.\n",
      "found 0 deleted tweets in this search.\n",
      "[!] No more data! Scraping will stop now.\n",
      "found 0 deleted tweets in this search.\n",
      "[!] No more data! Scraping will stop now.\n",
      "found 0 deleted tweets in this search.\n",
      "[!] No more data! Scraping will stop now.\n",
      "found 0 deleted tweets in this search.\n",
      "[!] No more data! Scraping will stop now.\n",
      "found 0 deleted tweets in this search.\n",
      "[!] No more data! Scraping will stop now.\n",
      "found 0 deleted tweets in this search.\n",
      "[!] No more data! Scraping will stop now.\n",
      "found 0 deleted tweets in this search.\n",
      "[!] No more data! Scraping will stop now.\n",
      "found 0 deleted tweets in this search.\n",
      "[!] No more data! Scraping will stop now.\n",
      "found 0 deleted tweets in this search.\n",
      "[!] No more data! Scraping will stop now.\n",
      "found 0 deleted tweets in this search.\n",
      "[!] No more data! Scraping will stop now.\n",
      "found 0 deleted tweets in this search.\n",
      "[!] No more data! Scraping will stop now.\n",
      "found 0 deleted tweets in this search.\n",
      "[!] No more data! Scraping will stop now.\n",
      "found 0 deleted tweets in this search.\n"
     ]
    }
   ],
   "source": [
    "for news in news_list:\n",
    "    nest_asyncio.apply()\n",
    "    c = twint.Config()\n",
    "    c.Search = news['claim']\n",
    "    c.Limit = 10\n",
    "    c.User_full = True\n",
    "    c.Store_object = True\n",
    "    c.Hide_output = True\n",
    "    twint.run.Search(c)\n",
    "    users = twint.output.users_list\n",
    "    \n",
    "    for user in users:\n",
    "        username = user.username\n",
    "        idnum = user.id\n",
    "        name = user.name\n",
    "        location = user.location\n",
    "        num_followes = user.followers\n",
    "        num_following = user.following\n",
    "        date_joined = user.join_date\n",
    "        #is_private = user.is_private\n",
    "        #is_verified = user.is_verified\n",
    "        #num_tweets = user.tweets\n",
    "        \n",
    "        if idnum in user_id_list:\n",
    "            count = 0\n",
    "            for x in user_list:\n",
    "                if x['username'] == username:\n",
    "                    count = x['idnum']\n",
    "                    break\n",
    "            edge_list.append({'type':'nu', 'edge':[count,news['idnum']]})    \n",
    "        else:\n",
    "            user_id_list.append(idnum)\n",
    "            username_list.append(username)\n",
    "            edge_list.append({'type':'nu', 'edge':[idnum,news['idnum']]})\n",
    "            \n",
    "            user_list.append({'type':'user', 'username':username, 'idnum':idnum, 'name':name, 'location':location, 'num_followes':num_followes, 'num_following':num_following, 'date_joined': date_joined})\n",
    "\n",
    "            "
   ]
  },
  {
   "cell_type": "code",
   "execution_count": null,
   "metadata": {},
   "outputs": [],
   "source": [
    "for fol in follow_list:\n",
    "    fol_name = fol['username']\n",
    "    print(fol_name)\n",
    "                \n",
    "                if fol_name in users:\n",
    "                    count = 0\n",
    "                    for x in user_list:\n",
    "                        if x['username'] == fol_name:\n",
    "                            count = x['idnum']\n",
    "                            break\n",
    "                    edge_list.append({'type':'uu', 'edge':[count,counter]})    \n",
    "                else:\n",
    "                    counter2 = counter2 + 1\n",
    "                    users.append(fol_name)\n",
    "                    user_list.append({'nodetype':'user', 'username':fol_name, 'idnum':counter2})\n",
    "                    edge_list.append({'type':'uu', 'edge':[counter2,counter]})"
   ]
  },
  {
   "cell_type": "code",
   "execution_count": null,
   "metadata": {},
   "outputs": [],
   "source": []
  },
  {
   "cell_type": "code",
   "execution_count": null,
   "metadata": {},
   "outputs": [],
   "source": [
    "with open('user_list.json', 'w') as json_file:\n",
    "    json.dump(user_list, json_file)\n",
    "with open('edge_list.json', 'w') as json_file:\n",
    "    json.dump(edge_list, json_file)"
   ]
  },
  {
   "cell_type": "code",
   "execution_count": null,
   "metadata": {},
   "outputs": [],
   "source": [
    "for user in user_list:\n",
    "    G.add_node(a, u=user)\n",
    "    color_map.append('green')\n",
    "    a = a + 1"
   ]
  },
  {
   "cell_type": "code",
   "execution_count": null,
   "metadata": {},
   "outputs": [],
   "source": [
    "print(G.number_of_nodes())\n",
    "print(G.nodes[0])\n",
    "print(G.number_of_edges())"
   ]
  },
  {
   "cell_type": "code",
   "execution_count": null,
   "metadata": {},
   "outputs": [],
   "source": [
    "for edges in edge_list:\n",
    "    G.add_edge(edges['edge'][0],edges['edge'][1])"
   ]
  },
  {
   "cell_type": "code",
   "execution_count": null,
   "metadata": {},
   "outputs": [],
   "source": [
    "nx.draw_random(G, node_color=color_map, with_labels=True)\n",
    "plt.savefig(\"network.png\")\n",
    "plt.show()"
   ]
  },
  {
   "cell_type": "code",
   "execution_count": null,
   "metadata": {},
   "outputs": [],
   "source": [
    "print(nx.clustering(G))\n",
    "print(nx.average_clustering(G))"
   ]
  },
  {
   "cell_type": "code",
   "execution_count": null,
   "metadata": {},
   "outputs": [],
   "source": [
    "print(nx.reciprocity(G))"
   ]
  },
  {
   "cell_type": "code",
   "execution_count": null,
   "metadata": {},
   "outputs": [],
   "source": []
  }
 ],
 "metadata": {
  "kernelspec": {
   "display_name": "Python 3",
   "language": "python",
   "name": "python3"
  },
  "language_info": {
   "codemirror_mode": {
    "name": "ipython",
    "version": 3
   },
   "file_extension": ".py",
   "mimetype": "text/x-python",
   "name": "python",
   "nbconvert_exporter": "python",
   "pygments_lexer": "ipython3",
   "version": "3.8.5"
  }
 },
 "nbformat": 4,
 "nbformat_minor": 4
}
